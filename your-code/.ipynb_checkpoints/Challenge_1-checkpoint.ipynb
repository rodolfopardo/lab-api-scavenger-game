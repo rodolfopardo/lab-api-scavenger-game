{
 "cells": [
  {
   "cell_type": "code",
   "execution_count": 74,
   "metadata": {},
   "outputs": [],
   "source": [
    "#Importo las librerias que voy a utilizar\n",
    "\n",
    "import requests \n",
    "import pandas as pd\n",
    "from pandas.io.json import json_normalize"
   ]
  },
  {
   "cell_type": "code",
   "execution_count": 10,
   "metadata": {},
   "outputs": [],
   "source": [
    "#Petición en los forks \n",
    "#Petición en los lenguajes de programacion \n",
    "#Petición en los commits\n",
    "\n",
    "\n",
    "git_forks = requests.get(\"https://api.github.com/repos/ironhack-datalabs/mad-oct-2018/forks\")\n",
    "git_languages = requests.get(\"https://api.github.com/repos/ironhack-datalabs/mad-oct-2018/languages\")\n",
    "git_commits = requests.get(\"https://api.github.com/repos/ironhack-datalabs/mad-oct-2018/commits\")\n",
    "git_commits1 = requests.get(\"https://api.github.com/repos/ironhack-datalabs/mad-oct-2018/stats/commit_activity\")"
   ]
  },
  {
   "cell_type": "code",
   "execution_count": 11,
   "metadata": {},
   "outputs": [],
   "source": [
    "#Pasando bases a Json para poder trabajar los datos \n",
    "\n",
    "git_forks = git_forks.json()\n",
    "git_languages = git_languages.json()\n",
    "git_commits = git_commits.json()\n",
    "\n",
    "\n",
    "\n"
   ]
  },
  {
   "cell_type": "code",
   "execution_count": 68,
   "metadata": {},
   "outputs": [
    {
     "data": {
      "text/plain": [
       "['Jupyter Notebook', 'HTML', 'Python']"
      ]
     },
     "execution_count": 68,
     "metadata": {},
     "output_type": "execute_result"
    }
   ],
   "source": [
    "#Mostrar datos y luego pasarlos a listas para que me saque los numeros de la impresión\n",
    "\n",
    "git_languages\n",
    "list(git_languages)"
   ]
  }
 ],
 "metadata": {
  "kernelspec": {
   "display_name": "Python 3",
   "language": "python",
   "name": "python3"
  },
  "language_info": {
   "codemirror_mode": {
    "name": "ipython",
    "version": 3
   },
   "file_extension": ".py",
   "mimetype": "text/x-python",
   "name": "python",
   "nbconvert_exporter": "python",
   "pygments_lexer": "ipython3",
   "version": "3.7.3"
  }
 },
 "nbformat": 4,
 "nbformat_minor": 2
}
